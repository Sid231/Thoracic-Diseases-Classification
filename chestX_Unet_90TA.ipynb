{
 "cells": [
  {
   "cell_type": "code",
   "execution_count": 1,
   "metadata": {},
   "outputs": [
    {
     "name": "stderr",
     "output_type": "stream",
     "text": [
      "Using TensorFlow backend.\n"
     ]
    }
   ],
   "source": [
    "%matplotlib inline\n",
    "%config InlineBackend.figure_format = 'retina'\n",
    "\n",
    "import cv2\n",
    "import numpy as np\n",
    "import keras\n",
    "import pandas as pd\n",
    "import matplotlib.pyplot as plt\n",
    "#import ConfigParser\n",
    "\n",
    "from keras.models import Model\n",
    "from keras.layers import Input, concatenate, Conv2D, MaxPooling2D, UpSampling2D, Reshape, core, Dropout, Dense, Activation, Flatten\n",
    "from keras.optimizers import Adam\n",
    "from keras.layers.normalization import BatchNormalization\n",
    "from keras.layers.core import SpatialDropout2D, Activation\n",
    "from keras.callbacks import ModelCheckpoint, LearningRateScheduler\n",
    "from keras import backend as K\n",
    "from keras.utils.vis_utils import plot_model as plot\n",
    "from keras.optimizers import SGD"
   ]
  },
  {
   "cell_type": "code",
   "execution_count": 2,
   "metadata": {
    "collapsed": true
   },
   "outputs": [],
   "source": [
    "def double_conv_layer(x, size, dropout, batch_norm):\n",
    "    if K.image_dim_ordering() == 'th':\n",
    "        axis = 1\n",
    "    else:\n",
    "        axis = 3\n",
    "    conv = Conv2D(size, (3, 3), padding='same')(x)\n",
    "    if batch_norm is True:\n",
    "        conv = BatchNormalization(axis=axis)(conv)\n",
    "    conv = Activation('relu')(conv)\n",
    "    conv = Conv2D(size, (3, 3), padding='same')(conv)\n",
    "    if batch_norm is True:\n",
    "        conv = BatchNormalization(axis=axis)(conv)\n",
    "    conv = Activation('relu')(conv)\n",
    "    if dropout > 0:\n",
    "        conv = SpatialDropout2D(dropout)(conv)\n",
    "    return conv"
   ]
  },
  {
   "cell_type": "code",
   "execution_count": 3,
   "metadata": {
    "collapsed": true
   },
   "outputs": [],
   "source": [
    "#model = ZF_UNET_224()\n",
    "#model.summary()\n",
    "#model.load_weights(\"weights/zf_unet_224.h5\") # optional"
   ]
  },
  {
   "cell_type": "code",
   "execution_count": 4,
   "metadata": {
    "collapsed": true
   },
   "outputs": [],
   "source": [
    "def UNET(dropout_val=0.2, batch_norm=True):\n",
    "    OUTPUT_MASK_CHANNELS = 1\n",
    "    if K.image_dim_ordering() == 'th':\n",
    "        inputs = Input((3, 224, 224))\n",
    "        axis = 1\n",
    "    else:\n",
    "        inputs = Input((224, 224, 3))\n",
    "        axis = 3\n",
    "    filters = 32\n",
    "\n",
    "    conv_224 = double_conv_layer(inputs, filters, 0, batch_norm)\n",
    "    pool_112 = MaxPooling2D(pool_size=(2, 2))(conv_224)\n",
    "\n",
    "    conv_112 = double_conv_layer(pool_112, 2*filters, 0, batch_norm)\n",
    "    pool_56 = MaxPooling2D(pool_size=(2, 2))(conv_112)\n",
    "\n",
    "    conv_56 = double_conv_layer(pool_56, 4*filters, 0, batch_norm)\n",
    "    pool_28 = MaxPooling2D(pool_size=(2, 2))(conv_56)\n",
    "\n",
    "    conv_28 = double_conv_layer(pool_28, 8*filters, 0, batch_norm)\n",
    "    pool_14 = MaxPooling2D(pool_size=(2, 2))(conv_28)\n",
    "\n",
    "    conv_14 = double_conv_layer(pool_14, 16*filters, 0, batch_norm)\n",
    "    pool_7 = MaxPooling2D(pool_size=(2, 2))(conv_14)\n",
    "\n",
    "    conv_7 = double_conv_layer(pool_7, 32*filters, 0, batch_norm)\n",
    "\n",
    "    up_14 = concatenate([UpSampling2D(size=(2, 2))(conv_7), conv_14], axis=axis)\n",
    "    up_conv_14 = double_conv_layer(up_14, 16*filters, 0, batch_norm)\n",
    "\n",
    "    up_28 = concatenate([UpSampling2D(size=(2, 2))(up_conv_14), conv_28], axis=axis)\n",
    "    up_conv_28 = double_conv_layer(up_28, 8*filters, 0, batch_norm)\n",
    "\n",
    "    up_56 = concatenate([UpSampling2D(size=(2, 2))(up_conv_28), conv_56], axis=axis)\n",
    "    up_conv_56 = double_conv_layer(up_56, 4*filters, 0, batch_norm)\n",
    "\n",
    "    up_112 = concatenate([UpSampling2D(size=(2, 2))(up_conv_56), conv_112], axis=axis)\n",
    "    up_conv_112 = double_conv_layer(up_112, 2*filters, 0, batch_norm)\n",
    "\n",
    "    up_224 = concatenate([UpSampling2D(size=(2, 2))(up_conv_112), conv_224], axis=axis)\n",
    "    up_conv_224 = double_conv_layer(up_224, filters, dropout_val, batch_norm)\n",
    "\n",
    "    conv_final = Conv2D(OUTPUT_MASK_CHANNELS, (1, 1))(up_conv_224)\n",
    "    conv_final = Activation('sigmoid')(conv_final)\n",
    "    \n",
    "    model = Model(inputs, conv_final, name=\"ZF_UNET_224\")\n",
    "    model.load_weights(\"weights/zf_unet_224.h5\")\n",
    "    last_layer = model.get_layer('max_pooling2d_10').output\n",
    "    \n",
    "    for i in range(1,50):\n",
    "        model.layers.pop()\n",
    "    \n",
    "    x = Flatten(name='flatten')(last_layer)\n",
    "    x = Dense(8192, activation='relu', name='fc1')(x)\n",
    "    x = Dense(512, activation='relu', name='fc2')(x)\n",
    "    x = Dropout(0.4)(x)\n",
    "    output_layer = Dense(13, activation='sigmoid', name='output')(x)\n",
    "    \n",
    "    unet_model = Model(inputs, output_layer, name=\"UNET\")\n",
    "    \n",
    "    return unet_model"
   ]
  },
  {
   "cell_type": "code",
   "execution_count": 6,
   "metadata": {},
   "outputs": [
    {
     "name": "stdout",
     "output_type": "stream",
     "text": [
      "_________________________________________________________________\n",
      "Layer (type)                 Output Shape              Param #   \n",
      "=================================================================\n",
      "input_2 (InputLayer)         (None, 224, 224, 3)       0         \n",
      "_________________________________________________________________\n",
      "conv2d_24 (Conv2D)           (None, 224, 224, 32)      896       \n",
      "_________________________________________________________________\n",
      "batch_normalization_23 (Batc (None, 224, 224, 32)      128       \n",
      "_________________________________________________________________\n",
      "activation_24 (Activation)   (None, 224, 224, 32)      0         \n",
      "_________________________________________________________________\n",
      "conv2d_25 (Conv2D)           (None, 224, 224, 32)      9248      \n",
      "_________________________________________________________________\n",
      "batch_normalization_24 (Batc (None, 224, 224, 32)      128       \n",
      "_________________________________________________________________\n",
      "activation_25 (Activation)   (None, 224, 224, 32)      0         \n",
      "_________________________________________________________________\n",
      "max_pooling2d_6 (MaxPooling2 (None, 112, 112, 32)      0         \n",
      "_________________________________________________________________\n",
      "conv2d_26 (Conv2D)           (None, 112, 112, 64)      18496     \n",
      "_________________________________________________________________\n",
      "batch_normalization_25 (Batc (None, 112, 112, 64)      256       \n",
      "_________________________________________________________________\n",
      "activation_26 (Activation)   (None, 112, 112, 64)      0         \n",
      "_________________________________________________________________\n",
      "conv2d_27 (Conv2D)           (None, 112, 112, 64)      36928     \n",
      "_________________________________________________________________\n",
      "batch_normalization_26 (Batc (None, 112, 112, 64)      256       \n",
      "_________________________________________________________________\n",
      "activation_27 (Activation)   (None, 112, 112, 64)      0         \n",
      "_________________________________________________________________\n",
      "max_pooling2d_7 (MaxPooling2 (None, 56, 56, 64)        0         \n",
      "_________________________________________________________________\n",
      "conv2d_28 (Conv2D)           (None, 56, 56, 128)       73856     \n",
      "_________________________________________________________________\n",
      "batch_normalization_27 (Batc (None, 56, 56, 128)       512       \n",
      "_________________________________________________________________\n",
      "activation_28 (Activation)   (None, 56, 56, 128)       0         \n",
      "_________________________________________________________________\n",
      "conv2d_29 (Conv2D)           (None, 56, 56, 128)       147584    \n",
      "_________________________________________________________________\n",
      "batch_normalization_28 (Batc (None, 56, 56, 128)       512       \n",
      "_________________________________________________________________\n",
      "activation_29 (Activation)   (None, 56, 56, 128)       0         \n",
      "_________________________________________________________________\n",
      "max_pooling2d_8 (MaxPooling2 (None, 28, 28, 128)       0         \n",
      "_________________________________________________________________\n",
      "conv2d_30 (Conv2D)           (None, 28, 28, 256)       295168    \n",
      "_________________________________________________________________\n",
      "batch_normalization_29 (Batc (None, 28, 28, 256)       1024      \n",
      "_________________________________________________________________\n",
      "activation_30 (Activation)   (None, 28, 28, 256)       0         \n",
      "_________________________________________________________________\n",
      "conv2d_31 (Conv2D)           (None, 28, 28, 256)       590080    \n",
      "_________________________________________________________________\n",
      "batch_normalization_30 (Batc (None, 28, 28, 256)       1024      \n",
      "_________________________________________________________________\n",
      "activation_31 (Activation)   (None, 28, 28, 256)       0         \n",
      "_________________________________________________________________\n",
      "max_pooling2d_9 (MaxPooling2 (None, 14, 14, 256)       0         \n",
      "_________________________________________________________________\n",
      "conv2d_32 (Conv2D)           (None, 14, 14, 512)       1180160   \n",
      "_________________________________________________________________\n",
      "batch_normalization_31 (Batc (None, 14, 14, 512)       2048      \n",
      "_________________________________________________________________\n",
      "activation_32 (Activation)   (None, 14, 14, 512)       0         \n",
      "_________________________________________________________________\n",
      "conv2d_33 (Conv2D)           (None, 14, 14, 512)       2359808   \n",
      "_________________________________________________________________\n",
      "batch_normalization_32 (Batc (None, 14, 14, 512)       2048      \n",
      "_________________________________________________________________\n",
      "activation_33 (Activation)   (None, 14, 14, 512)       0         \n",
      "_________________________________________________________________\n",
      "max_pooling2d_10 (MaxPooling (None, 7, 7, 512)         0         \n",
      "_________________________________________________________________\n",
      "flatten (Flatten)            (None, 25088)             0         \n",
      "_________________________________________________________________\n",
      "fc1 (Dense)                  (None, 8192)              205529088 \n",
      "_________________________________________________________________\n",
      "fc2 (Dense)                  (None, 512)               4194816   \n",
      "_________________________________________________________________\n",
      "dropout_1 (Dropout)          (None, 512)               0         \n",
      "_________________________________________________________________\n",
      "output (Dense)               (None, 13)                6669      \n",
      "=================================================================\n",
      "Total params: 214,450,733.0\n",
      "Trainable params: 214,446,765.0\n",
      "Non-trainable params: 3,968.0\n",
      "_________________________________________________________________\n"
     ]
    }
   ],
   "source": [
    "model = UNET()\n",
    "model.summary()"
   ]
  },
  {
   "cell_type": "code",
   "execution_count": 7,
   "metadata": {},
   "outputs": [
    {
     "name": "stdout",
     "output_type": "stream",
     "text": [
      "_________________________________________________________________\n",
      "Layer (type)                 Output Shape              Param #   \n",
      "=================================================================\n",
      "input_2 (InputLayer)         (None, 224, 224, 3)       0         \n",
      "_________________________________________________________________\n",
      "conv2d_24 (Conv2D)           (None, 224, 224, 32)      896       \n",
      "_________________________________________________________________\n",
      "batch_normalization_23 (Batc (None, 224, 224, 32)      128       \n",
      "_________________________________________________________________\n",
      "activation_24 (Activation)   (None, 224, 224, 32)      0         \n",
      "_________________________________________________________________\n",
      "conv2d_25 (Conv2D)           (None, 224, 224, 32)      9248      \n",
      "_________________________________________________________________\n",
      "batch_normalization_24 (Batc (None, 224, 224, 32)      128       \n",
      "_________________________________________________________________\n",
      "activation_25 (Activation)   (None, 224, 224, 32)      0         \n",
      "_________________________________________________________________\n",
      "max_pooling2d_6 (MaxPooling2 (None, 112, 112, 32)      0         \n",
      "_________________________________________________________________\n",
      "conv2d_26 (Conv2D)           (None, 112, 112, 64)      18496     \n",
      "_________________________________________________________________\n",
      "batch_normalization_25 (Batc (None, 112, 112, 64)      256       \n",
      "_________________________________________________________________\n",
      "activation_26 (Activation)   (None, 112, 112, 64)      0         \n",
      "_________________________________________________________________\n",
      "conv2d_27 (Conv2D)           (None, 112, 112, 64)      36928     \n",
      "_________________________________________________________________\n",
      "batch_normalization_26 (Batc (None, 112, 112, 64)      256       \n",
      "_________________________________________________________________\n",
      "activation_27 (Activation)   (None, 112, 112, 64)      0         \n",
      "_________________________________________________________________\n",
      "max_pooling2d_7 (MaxPooling2 (None, 56, 56, 64)        0         \n",
      "_________________________________________________________________\n",
      "conv2d_28 (Conv2D)           (None, 56, 56, 128)       73856     \n",
      "_________________________________________________________________\n",
      "batch_normalization_27 (Batc (None, 56, 56, 128)       512       \n",
      "_________________________________________________________________\n",
      "activation_28 (Activation)   (None, 56, 56, 128)       0         \n",
      "_________________________________________________________________\n",
      "conv2d_29 (Conv2D)           (None, 56, 56, 128)       147584    \n",
      "_________________________________________________________________\n",
      "batch_normalization_28 (Batc (None, 56, 56, 128)       512       \n",
      "_________________________________________________________________\n",
      "activation_29 (Activation)   (None, 56, 56, 128)       0         \n",
      "_________________________________________________________________\n",
      "max_pooling2d_8 (MaxPooling2 (None, 28, 28, 128)       0         \n",
      "_________________________________________________________________\n",
      "conv2d_30 (Conv2D)           (None, 28, 28, 256)       295168    \n",
      "_________________________________________________________________\n",
      "batch_normalization_29 (Batc (None, 28, 28, 256)       1024      \n",
      "_________________________________________________________________\n",
      "activation_30 (Activation)   (None, 28, 28, 256)       0         \n",
      "_________________________________________________________________\n",
      "conv2d_31 (Conv2D)           (None, 28, 28, 256)       590080    \n",
      "_________________________________________________________________\n",
      "batch_normalization_30 (Batc (None, 28, 28, 256)       1024      \n",
      "_________________________________________________________________\n",
      "activation_31 (Activation)   (None, 28, 28, 256)       0         \n",
      "_________________________________________________________________\n",
      "max_pooling2d_9 (MaxPooling2 (None, 14, 14, 256)       0         \n",
      "_________________________________________________________________\n",
      "conv2d_32 (Conv2D)           (None, 14, 14, 512)       1180160   \n",
      "_________________________________________________________________\n",
      "batch_normalization_31 (Batc (None, 14, 14, 512)       2048      \n",
      "_________________________________________________________________\n",
      "activation_32 (Activation)   (None, 14, 14, 512)       0         \n",
      "_________________________________________________________________\n",
      "conv2d_33 (Conv2D)           (None, 14, 14, 512)       2359808   \n",
      "_________________________________________________________________\n",
      "batch_normalization_32 (Batc (None, 14, 14, 512)       2048      \n",
      "_________________________________________________________________\n",
      "activation_33 (Activation)   (None, 14, 14, 512)       0         \n",
      "_________________________________________________________________\n",
      "max_pooling2d_10 (MaxPooling (None, 7, 7, 512)         0         \n",
      "_________________________________________________________________\n",
      "flatten (Flatten)            (None, 25088)             0         \n",
      "_________________________________________________________________\n",
      "fc1 (Dense)                  (None, 8192)              205529088 \n",
      "_________________________________________________________________\n",
      "fc2 (Dense)                  (None, 512)               4194816   \n",
      "_________________________________________________________________\n",
      "dropout_1 (Dropout)          (None, 512)               0         \n",
      "_________________________________________________________________\n",
      "output (Dense)               (None, 13)                6669      \n",
      "=================================================================\n",
      "Total params: 214,450,733.0\n",
      "Trainable params: 209,730,573.0\n",
      "Non-trainable params: 4,720,160.0\n",
      "_________________________________________________________________\n"
     ]
    }
   ],
   "source": [
    "for layer in model.layers[:-4]:\n",
    "    layer.trainable = False\n",
    "\n",
    "model.summary()"
   ]
  },
  {
   "cell_type": "code",
   "execution_count": 8,
   "metadata": {
    "collapsed": true
   },
   "outputs": [],
   "source": [
    "data_path = 'sample_labels.csv'\n",
    "NIH_Data = pd.read_csv(data_path)"
   ]
  },
  {
   "cell_type": "code",
   "execution_count": 9,
   "metadata": {
    "scrolled": true
   },
   "outputs": [
    {
     "data": {
      "text/plain": [
       "True"
      ]
     },
     "execution_count": 9,
     "metadata": {},
     "output_type": "execute_result"
    }
   ],
   "source": [
    "NIH_Data[\"Finding Labels\"][0].split('|')[0] == 'Emphysema'"
   ]
  },
  {
   "cell_type": "code",
   "execution_count": 10,
   "metadata": {},
   "outputs": [
    {
     "data": {
      "text/html": [
       "<div>\n",
       "<style>\n",
       "    .dataframe thead tr:only-child th {\n",
       "        text-align: right;\n",
       "    }\n",
       "\n",
       "    .dataframe thead th {\n",
       "        text-align: left;\n",
       "    }\n",
       "\n",
       "    .dataframe tbody tr th {\n",
       "        vertical-align: top;\n",
       "    }\n",
       "</style>\n",
       "<table border=\"1\" class=\"dataframe\">\n",
       "  <thead>\n",
       "    <tr style=\"text-align: right;\">\n",
       "      <th></th>\n",
       "      <th>Image Index</th>\n",
       "      <th>Finding Labels</th>\n",
       "      <th>Follow-up #</th>\n",
       "      <th>Patient ID</th>\n",
       "      <th>Patient Age</th>\n",
       "      <th>Patient Gender</th>\n",
       "      <th>View Position</th>\n",
       "      <th>OriginalImageWidth</th>\n",
       "      <th>OriginalImageHeight</th>\n",
       "      <th>OriginalImagePixelSpacing_x</th>\n",
       "      <th>OriginalImagePixelSpacing_y</th>\n",
       "    </tr>\n",
       "  </thead>\n",
       "  <tbody>\n",
       "    <tr>\n",
       "      <th>0</th>\n",
       "      <td>00000013_005.png</td>\n",
       "      <td>Emphysema|Infiltration|Pleural_Thickening|Pneu...</td>\n",
       "      <td>5</td>\n",
       "      <td>13</td>\n",
       "      <td>060Y</td>\n",
       "      <td>M</td>\n",
       "      <td>AP</td>\n",
       "      <td>3056</td>\n",
       "      <td>2544</td>\n",
       "      <td>0.139</td>\n",
       "      <td>0.139</td>\n",
       "    </tr>\n",
       "  </tbody>\n",
       "</table>\n",
       "</div>"
      ],
      "text/plain": [
       "        Image Index                                     Finding Labels  \\\n",
       "0  00000013_005.png  Emphysema|Infiltration|Pleural_Thickening|Pneu...   \n",
       "\n",
       "   Follow-up #  Patient ID Patient Age Patient Gender View Position  \\\n",
       "0            5          13        060Y              M            AP   \n",
       "\n",
       "   OriginalImageWidth  OriginalImageHeight  OriginalImagePixelSpacing_x  \\\n",
       "0                3056                 2544                        0.139   \n",
       "\n",
       "   OriginalImagePixelSpacing_y  \n",
       "0                        0.139  "
      ]
     },
     "execution_count": 10,
     "metadata": {},
     "output_type": "execute_result"
    }
   ],
   "source": [
    "NIH_Data[:1]"
   ]
  },
  {
   "cell_type": "code",
   "execution_count": 11,
   "metadata": {
    "collapsed": true
   },
   "outputs": [],
   "source": [
    "train_data = NIH_Data[:2803] #50% of total data\n",
    "test_data = NIH_Data[2803:5046] #40% of total data\n",
    "validation_data = NIH_Data[5046:5607] #10% of total data"
   ]
  },
  {
   "cell_type": "code",
   "execution_count": 12,
   "metadata": {
    "collapsed": true
   },
   "outputs": [],
   "source": [
    "def getTarget(data):\n",
    "    target = np.zeros([13])\n",
    "    split_data = data.split('|')\n",
    "    for i in range(0,len(split_data)):\n",
    "        if(split_data[i] == 'Cardiomegaly'):\n",
    "            target[0]=1\n",
    "        if(split_data[i] == 'Emphysema'):\n",
    "            target[1]=1\n",
    "        if(split_data[i] == 'Atelectasis'):\n",
    "            target[2]=1\n",
    "        if(split_data[i] == 'Infiltration'):\n",
    "            target[3]=1\n",
    "        if(split_data[i] == 'Effusion'):\n",
    "            target[4]=1\n",
    "        if(split_data[i] == 'Pneumothorax'):\n",
    "            target[5]=1\n",
    "        if(split_data[i] == 'Pleural_Thickening'):\n",
    "            target[6]=1\n",
    "        if(split_data[i] == 'Edema'):\n",
    "            target[7]=1\n",
    "        if(split_data[i] == 'Mass'):\n",
    "            target[8]=1\n",
    "        if(split_data[i] == 'Nodule'):\n",
    "            target[9]=1\n",
    "        if(split_data[i] == 'Consolidation'):\n",
    "            target[10]=1\n",
    "        if(split_data[i] == 'Fibrosis'):\n",
    "            target[11]=1\n",
    "        if(split_data[i] == 'No Finding'):\n",
    "            target[12]=1\n",
    "            \n",
    "    return target"
   ]
  },
  {
   "cell_type": "code",
   "execution_count": 13,
   "metadata": {
    "collapsed": true
   },
   "outputs": [],
   "source": [
    "def getDataTarget(data,start_val):\n",
    "    data_targets = np.zeros([data.shape[0],13])\n",
    "    for i in range(0,data.shape[0]):\n",
    "        data_targets[i,:] = getTarget(data[\"Finding Labels\"][i+start_val])\n",
    "    return data_targets"
   ]
  },
  {
   "cell_type": "code",
   "execution_count": 14,
   "metadata": {
    "collapsed": true
   },
   "outputs": [],
   "source": [
    "def load_data(data,start_val):\n",
    "    #print(data.shape[0])\n",
    "    data_files = [\"\" for x in range(data.shape[0])]\n",
    "    for i in range(0,data.shape[0]):\n",
    "        #print(data[\"Image Index\"][i+start_val])\n",
    "        data_files[i] = ('images/'+data[\"Image Index\"][i+start_val])\n",
    "    data_files = np.asarray(data_files)\n",
    "    #print(data_files)\n",
    "    data_targets = getDataTarget(data,start_val)\n",
    "    return data_files, data_targets"
   ]
  },
  {
   "cell_type": "code",
   "execution_count": 15,
   "metadata": {
    "collapsed": true
   },
   "outputs": [],
   "source": [
    "train_files, train_targets = load_data(train_data,0)\n",
    "valid_files, valid_targets = load_data(validation_data,5046)\n",
    "test_files, test_targets = load_data(test_data,2803)"
   ]
  },
  {
   "cell_type": "code",
   "execution_count": 16,
   "metadata": {
    "collapsed": true
   },
   "outputs": [],
   "source": [
    "from keras.preprocessing import image                  \n",
    "from tqdm import tqdm\n",
    "\n",
    "def path_to_tensor(img_path):\n",
    "    # loads RGB image as PIL.Image.Image type\n",
    "    img = image.load_img(img_path, target_size=(224, 224))\n",
    "    # convert PIL.Image.Image type to 3D tensor with shape (224, 224, 3)\n",
    "    x = image.img_to_array(img)\n",
    "    # convert 3D tensor to 4D tensor with shape (1, 224, 224, 3) and return 4D tensor\n",
    "    return np.expand_dims(x, axis=0)\n",
    "\n",
    "def paths_to_tensor(img_paths):\n",
    "    list_of_tensors = [path_to_tensor(img_path) for img_path in tqdm(img_paths)]\n",
    "    return np.vstack(list_of_tensors)"
   ]
  },
  {
   "cell_type": "code",
   "execution_count": 17,
   "metadata": {},
   "outputs": [
    {
     "name": "stderr",
     "output_type": "stream",
     "text": [
      "100%|██████████| 2803/2803 [00:47<00:00, 59.27it/s]\n",
      "100%|██████████| 560/560 [00:08<00:00, 63.62it/s]\n",
      "100%|██████████| 2243/2243 [00:36<00:00, 61.90it/s]\n"
     ]
    }
   ],
   "source": [
    "from PIL import ImageFile                            \n",
    "ImageFile.LOAD_TRUNCATED_IMAGES = True                 \n",
    "\n",
    "# pre-process the data for Keras\n",
    "train_tensors = paths_to_tensor(train_files).astype('float32')/255\n",
    "valid_tensors = paths_to_tensor(valid_files).astype('float32')/255\n",
    "test_tensors = paths_to_tensor(test_files).astype('float32')/255"
   ]
  },
  {
   "cell_type": "code",
   "execution_count": 18,
   "metadata": {},
   "outputs": [
    {
     "name": "stdout",
     "output_type": "stream",
     "text": [
      "(224, 224, 3)\n"
     ]
    },
    {
     "data": {
      "text/plain": [
       "<matplotlib.image.AxesImage at 0x7ff6916be0f0>"
      ]
     },
     "execution_count": 18,
     "metadata": {},
     "output_type": "execute_result"
    },
    {
     "data": {
      "image/png": "[encoded data removed]",
      "text/plain": [
       "<matplotlib.figure.Figure at 0x7ff691b68438>"
      ]
     },
     "metadata": {
      "image/png": {
       "height": 251,
       "width": 259
      }
     },
     "output_type": "display_data"
    }
   ],
   "source": [
    "print(train_tensors[0].shape)\n",
    "plt.imshow(train_tensors[1])"
   ]
  },
  {
   "cell_type": "code",
   "execution_count": 19,
   "metadata": {},
   "outputs": [
    {
     "data": {
      "text/plain": [
       "'images/00013993_127.png'"
      ]
     },
     "execution_count": 19,
     "metadata": {},
     "output_type": "execute_result"
    }
   ],
   "source": [
    "test_files[0]"
   ]
  },
  {
   "cell_type": "code",
   "execution_count": 20,
   "metadata": {},
   "outputs": [
    {
     "name": "stdout",
     "output_type": "stream",
     "text": [
      "[ 0.  1.  0.  1.  0.  1.  1.  0.  0.  0.  0.  0.  0.]\n"
     ]
    }
   ],
   "source": [
    "print(train_targets[0])"
   ]
  },
  {
   "cell_type": "code",
   "execution_count": 21,
   "metadata": {
    "collapsed": true
   },
   "outputs": [],
   "source": [
    "#model.compile(loss='categorical_crossentropy',optimizer='adadelta',metrics=['accuracy'])\n",
    "model.compile(loss=keras.losses.categorical_crossentropy,\n",
    "              optimizer=keras.optimizers.SGD(lr=0.0001),\n",
    "              metrics=['accuracy'])"
   ]
  },
  {
   "cell_type": "code",
   "execution_count": 22,
   "metadata": {
    "collapsed": true
   },
   "outputs": [],
   "source": [
    "class AccuracyHistory(keras.callbacks.Callback):\n",
    "    def on_train_begin(self, logs={}):\n",
    "        self.acc = []\n",
    "\n",
    "    def on_epoch_end(self, batch, logs={}):\n",
    "        self.acc.append(logs.get('acc'))"
   ]
  },
  {
   "cell_type": "code",
   "execution_count": null,
   "metadata": {
    "collapsed": true
   },
   "outputs": [],
   "source": [
    "history = AccuracyHistory()"
   ]
  },
  {
   "cell_type": "code",
   "execution_count": null,
   "metadata": {},
   "outputs": [
    {
     "name": "stdout",
     "output_type": "stream",
     "text": [
      "Train on 2803 samples, validate on 560 samples\n",
      "Epoch 1/50\n",
      "2803/2803 [==============================] - 68s - loss: 2.6021 - acc: 0.5387 - val_loss: 2.6683 - val_acc: 0.4946\n",
      "Epoch 2/50\n",
      "2803/2803 [==============================] - 64s - loss: 2.4319 - acc: 0.5630 - val_loss: 2.6579 - val_acc: 0.4946\n",
      "Epoch 3/50\n",
      "2803/2803 [==============================] - 65s - loss: 2.3593 - acc: 0.5626 - val_loss: 2.6241 - val_acc: 0.4946\n",
      "Epoch 4/50\n",
      "2803/2803 [==============================] - 65s - loss: 2.3009 - acc: 0.5623 - val_loss: 2.6212 - val_acc: 0.4946\n",
      "Epoch 5/50\n",
      "2803/2803 [==============================] - 65s - loss: 2.2794 - acc: 0.5626 - val_loss: 2.6076 - val_acc: 0.4946\n",
      "Epoch 6/50\n",
      "2803/2803 [==============================] - 65s - loss: 2.2676 - acc: 0.5633 - val_loss: 2.6011 - val_acc: 0.4946\n",
      "Epoch 7/50\n",
      "2803/2803 [==============================] - 65s - loss: 2.2336 - acc: 0.5633 - val_loss: 2.5869 - val_acc: 0.4946\n",
      "Epoch 8/50\n",
      "2803/2803 [==============================] - 65s - loss: 2.2087 - acc: 0.5640 - val_loss: 2.5948 - val_acc: 0.4946\n",
      "Epoch 9/50\n",
      "2803/2803 [==============================] - 65s - loss: 2.1329 - acc: 0.5623 - val_loss: 2.5641 - val_acc: 0.4946\n",
      "Epoch 15/50\n",
      "2803/2803 [==============================] - 65s - loss: 2.1071 - acc: 0.5648 - val_loss: 2.5657 - val_acc: 0.4946\n",
      "Epoch 16/50\n",
      "2803/2803 [==============================] - 65s - loss: 2.1036 - acc: 0.5626 - val_loss: 2.5514 - val_acc: 0.4946\n",
      "Epoch 17/50\n",
      "2803/2803 [==============================] - 65s - loss: 2.0817 - acc: 0.5651 - val_loss: 2.5586 - val_acc: 0.4946\n",
      "Epoch 18/50\n",
      "2803/2803 [==============================] - 65s - loss: 2.0707 - acc: 0.5623 - val_loss: 2.5559 - val_acc: 0.4946\n",
      "Epoch 19/50\n",
      "2803/2803 [==============================] - 65s - loss: 2.0570 - acc: 0.5655 - val_loss: 2.5596 - val_acc: 0.4946\n",
      "Epoch 20/50\n",
      "2803/2803 [==============================] - 65s - loss: 2.0397 - acc: 0.5658 - val_loss: 2.5548 - val_acc: 0.4964\n",
      "Epoch 21/50\n",
      "2803/2803 [==============================] - 65s - loss: 2.0506 - acc: 0.5644 - val_loss: 2.5573 - val_acc: 0.4964\n",
      "Epoch 22/50\n",
      "2803/2803 [==============================] - 65s - loss: 2.0333 - acc: 0.5644 - val_loss: 2.5787 - val_acc: 0.4946\n",
      "Epoch 23/50\n",
      "2803/2803 [==============================] - 65s - loss: 2.0072 - acc: 0.5637 - val_loss: 2.5564 - val_acc: 0.4946\n",
      "Epoch 24/50\n",
      "2803/2803 [==============================] - 65s - loss: 2.0051 - acc: 0.5705 - val_loss: 2.5677 - val_acc: 0.4946\n",
      "Epoch 25/50\n",
      "2803/2803 [==============================] - 65s - loss: 1.9923 - acc: 0.5676 - val_loss: 2.5703 - val_acc: 0.4964\n",
      "Epoch 26/50\n",
      "2803/2803 [==============================] - 65s - loss: 1.9909 - acc: 0.5655 - val_loss: 2.5690 - val_acc: 0.4946\n",
      "Epoch 27/50\n",
      "2803/2803 [==============================] - 65s - loss: 1.9693 - acc: 0.5672 - val_loss: 2.5567 - val_acc: 0.4946\n",
      "Epoch 28/50\n",
      "2803/2803 [==============================] - 65s - loss: 1.9671 - acc: 0.5662 - val_loss: 2.5603 - val_acc: 0.4964\n",
      "Epoch 29/50\n",
      "2803/2803 [==============================] - 65s - loss: 1.9666 - acc: 0.5697 - val_loss: 2.5565 - val_acc: 0.4875\n",
      "Epoch 30/50\n",
      "2803/2803 [==============================] - 65s - loss: 1.9419 - acc: 0.5640 - val_loss: 2.5551 - val_acc: 0.4893\n",
      "Epoch 31/50\n",
      "2803/2803 [==============================] - 65s - loss: 1.9404 - acc: 0.5690 - val_loss: 2.5436 - val_acc: 0.4929\n",
      "Epoch 32/50\n",
      "2803/2803 [==============================] - 65s - loss: 1.9229 - acc: 0.5712 - val_loss: 2.5617 - val_acc: 0.4893\n",
      "Epoch 33/50\n",
      "2803/2803 [==============================] - 65s - loss: 1.9048 - acc: 0.5648 - val_loss: 2.5516 - val_acc: 0.4929\n",
      "Epoch 34/50\n",
      "2803/2803 [==============================] - 65s - loss: 1.9086 - acc: 0.5640 - val_loss: 2.5660 - val_acc: 0.4929\n",
      "Epoch 35/50\n",
      "2803/2803 [==============================] - 65s - loss: 1.9156 - acc: 0.5694 - val_loss: 2.5573 - val_acc: 0.4893\n",
      "Epoch 36/50\n",
      "2803/2803 [==============================] - 65s - loss: 1.8499 - acc: 0.5730 - val_loss: 2.5796 - val_acc: 0.4893\n",
      "Epoch 42/50\n",
      "2803/2803 [==============================] - 65s - loss: 1.8463 - acc: 0.5758 - val_loss: 2.5455 - val_acc: 0.4786\n",
      "Epoch 43/50\n",
      "2803/2803 [==============================] - 65s - loss: 1.8243 - acc: 0.5769 - val_loss: 2.5817 - val_acc: 0.4893\n",
      "Epoch 44/50\n",
      "2803/2803 [==============================] - 65s - loss: 1.8093 - acc: 0.5730 - val_loss: 2.5532 - val_acc: 0.4786\n",
      "Epoch 45/50\n",
      "2803/2803 [==============================] - 65s - loss: 1.8099 - acc: 0.5769 - val_loss: 2.5501 - val_acc: 0.4839\n",
      "Epoch 46/50\n",
      "2803/2803 [==============================] - 65s - loss: 1.7995 - acc: 0.5762 - val_loss: 2.5521 - val_acc: 0.4875\n",
      "Epoch 47/50\n",
      "2803/2803 [==============================] - 65s - loss: 1.7968 - acc: 0.5801 - val_loss: 2.5660 - val_acc: 0.4875\n",
      "Epoch 48/50\n",
      "2803/2803 [==============================] - 65s - loss: 1.7890 - acc: 0.5883 - val_loss: 2.5387 - val_acc: 0.4857\n",
      "Epoch 49/50\n",
      "2803/2803 [==============================] - 65s - loss: 1.7705 - acc: 0.5912 - val_loss: 2.5596 - val_acc: 0.4804\n",
      "Epoch 50/50\n",
      "2803/2803 [==============================] - 65s - loss: 1.7704 - acc: 0.5879 - val_loss: 2.5690 - val_acc: 0.4839\n"
     ]
    }
   ],
   "source": [
    "hist = model.fit(train_tensors, train_targets,\n",
    "          batch_size=10,\n",
    "          epochs=50,\n",
    "          verbose=1,\n",
    "          validation_data=(valid_tensors, valid_targets),\n",
    "          callbacks=[history])"
   ]
  },
  {
   "cell_type": "code",
   "execution_count": null,
   "metadata": {},
   "outputs": [
    {
     "name": "stdout",
     "output_type": "stream",
     "text": [
      "2240/2243 [============================>.] - ETA: 0s[INFO] loss=2.4086, accuracy: 51.6719%\n"
     ]
    }
   ],
   "source": [
    "(loss, accuracy) = model.evaluate(test_tensors, test_targets, batch_size=10, verbose=1)\n",
    "print(\"[INFO] loss={:.4f}, accuracy: {:.4f}%\".format(loss,accuracy * 100))"
   ]
  },
  {
   "cell_type": "code",
   "execution_count": null,
   "metadata": {
    "collapsed": true
   },
   "outputs": [],
   "source": [
    "index = 0\n",
    "image = test_tensors[index]\n",
    "image_exp = np.expand_dims(image, axis=0)\n",
    "pr = model.predict(image_exp)\n",
    "print(pr)\n",
    "print(train_targets[index])"
   ]
  },
  {
   "cell_type": "code",
   "execution_count": null,
   "metadata": {
    "collapsed": true
   },
   "outputs": [],
   "source": [
    "# list all data in history\n",
    "print(hist.history.keys())"
   ]
  },
  {
   "cell_type": "code",
   "execution_count": null,
   "metadata": {
    "collapsed": true
   },
   "outputs": [],
   "source": [
    "# summarize history for accuracy\n",
    "plt.plot(history.history['acc'])\n",
    "plt.plot(history.history['val_acc'])\n",
    "plt.title('model accuracy')\n",
    "plt.ylabel('accuracy')\n",
    "plt.xlabel('epoch')\n",
    "plt.legend(['train', 'test'], loc='upper left')\n",
    "plt.show()"
   ]
  },
  {
   "cell_type": "code",
   "execution_count": null,
   "metadata": {
    "collapsed": true
   },
   "outputs": [],
   "source": [
    "# summarize history for loss\n",
    "plt.plot(history.history['loss'])\n",
    "plt.plot(history.history['val_loss'])\n",
    "plt.title('model loss')\n",
    "plt.ylabel('loss')\n",
    "plt.xlabel('epoch')\n",
    "plt.legend(['train', 'test'], loc='upper left')\n",
    "plt.show()"
   ]
  },
  {
   "cell_type": "code",
   "execution_count": null,
   "metadata": {
    "collapsed": true
   },
   "outputs": [],
   "source": []
  }
 ],
 "metadata": {
  "anaconda-cloud": {},
  "kernelspec": {
   "display_name": "Python 3",
   "language": "python",
   "name": "python3"
  },
  "language_info": {
   "codemirror_mode": {
    "name": "ipython",
    "version": 3
   },
   "file_extension": ".py",
   "mimetype": "text/x-python",
   "name": "python",
   "nbconvert_exporter": "python",
   "pygments_lexer": "ipython3",
   "version": "3.6.1"
  }
 },
 "nbformat": 4,
 "nbformat_minor": 1
}
