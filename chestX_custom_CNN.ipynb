{
 "cells": [
  {
   "cell_type": "code",
   "execution_count": 1,
   "metadata": {
    "collapsed": true
   },
   "outputs": [],
   "source": [
    "%matplotlib inline\n",
    "%config InlineBackend.figure_format = 'retina'\n",
    "\n",
    "import numpy as np\n",
    "import pandas as pd\n",
    "import matplotlib.pyplot as plt"
   ]
  },
  {
   "cell_type": "code",
   "execution_count": 2,
   "metadata": {
    "collapsed": true
   },
   "outputs": [],
   "source": [
    "data_path = 'sample_labels.csv'\n",
    "NIH_Data = pd.read_csv(data_path)"
   ]
  },
  {
   "cell_type": "code",
   "execution_count": 3,
   "metadata": {},
   "outputs": [
    {
     "data": {
      "text/html": [
       "<div>\n",
       "<style>\n",
       "    .dataframe thead tr:only-child th {\n",
       "        text-align: right;\n",
       "    }\n",
       "\n",
       "    .dataframe thead th {\n",
       "        text-align: left;\n",
       "    }\n",
       "\n",
       "    .dataframe tbody tr th {\n",
       "        vertical-align: top;\n",
       "    }\n",
       "</style>\n",
       "<table border=\"1\" class=\"dataframe\">\n",
       "  <thead>\n",
       "    <tr style=\"text-align: right;\">\n",
       "      <th></th>\n",
       "      <th>Image Index</th>\n",
       "      <th>Finding Labels</th>\n",
       "      <th>Follow-up #</th>\n",
       "      <th>Patient ID</th>\n",
       "      <th>Patient Age</th>\n",
       "      <th>Patient Gender</th>\n",
       "      <th>View Position</th>\n",
       "      <th>OriginalImageWidth</th>\n",
       "      <th>OriginalImageHeight</th>\n",
       "      <th>OriginalImagePixelSpacing_x</th>\n",
       "      <th>OriginalImagePixelSpacing_y</th>\n",
       "    </tr>\n",
       "  </thead>\n",
       "  <tbody>\n",
       "    <tr>\n",
       "      <th>0</th>\n",
       "      <td>00000013_005.png</td>\n",
       "      <td>Emphysema|Infiltration|Pleural_Thickening|Pneu...</td>\n",
       "      <td>5</td>\n",
       "      <td>13</td>\n",
       "      <td>060Y</td>\n",
       "      <td>M</td>\n",
       "      <td>AP</td>\n",
       "      <td>3056</td>\n",
       "      <td>2544</td>\n",
       "      <td>0.139</td>\n",
       "      <td>0.139</td>\n",
       "    </tr>\n",
       "  </tbody>\n",
       "</table>\n",
       "</div>"
      ],
      "text/plain": [
       "        Image Index                                     Finding Labels  \\\n",
       "0  00000013_005.png  Emphysema|Infiltration|Pleural_Thickening|Pneu...   \n",
       "\n",
       "   Follow-up #  Patient ID Patient Age Patient Gender View Position  \\\n",
       "0            5          13        060Y              M            AP   \n",
       "\n",
       "   OriginalImageWidth  OriginalImageHeight  OriginalImagePixelSpacing_x  \\\n",
       "0                3056                 2544                        0.139   \n",
       "\n",
       "   OriginalImagePixelSpacing_y  \n",
       "0                        0.139  "
      ]
     },
     "execution_count": 3,
     "metadata": {},
     "output_type": "execute_result"
    }
   ],
   "source": [
    "NIH_Data[:1]"
   ]
  },
  {
   "cell_type": "code",
   "execution_count": 4,
   "metadata": {},
   "outputs": [
    {
     "data": {
      "text/plain": [
       "True"
      ]
     },
     "execution_count": 4,
     "metadata": {},
     "output_type": "execute_result"
    }
   ],
   "source": [
    "NIH_Data[\"Finding Labels\"][0].split('|')[0] == 'Emphysema'"
   ]
  },
  {
   "cell_type": "code",
   "execution_count": 5,
   "metadata": {
    "collapsed": true
   },
   "outputs": [],
   "source": [
    "train_data = NIH_Data[:2803] #50% of total data\n",
    "test_data = NIH_Data[2803:5046] #40% of total data\n",
    "validation_data = NIH_Data[5046:5607] #10% of total data"
   ]
  },
  {
   "cell_type": "code",
   "execution_count": 6,
   "metadata": {
    "collapsed": true
   },
   "outputs": [],
   "source": [
    "def getTarget(data):\n",
    "    target = np.zeros([13])\n",
    "    split_data = data.split('|')\n",
    "    for i in range(0,len(split_data)):\n",
    "        if(split_data[i] == 'Cardiomegaly'):\n",
    "            target[0]=1\n",
    "        if(split_data[i] == 'Emphysema'):\n",
    "            target[1]=1\n",
    "        if(split_data[i] == 'Atelectasis'):\n",
    "            target[2]=1\n",
    "        if(split_data[i] == 'Infiltration'):\n",
    "            target[3]=1\n",
    "        if(split_data[i] == 'Effusion'):\n",
    "            target[4]=1\n",
    "        if(split_data[i] == 'Pneumothorax'):\n",
    "            target[5]=1\n",
    "        if(split_data[i] == 'Pleural_Thickening'):\n",
    "            target[6]=1\n",
    "        if(split_data[i] == 'Edema'):\n",
    "            target[7]=1\n",
    "        if(split_data[i] == 'Mass'):\n",
    "            target[8]=1\n",
    "        if(split_data[i] == 'Nodule'):\n",
    "            target[9]=1\n",
    "        if(split_data[i] == 'Consolidation'):\n",
    "            target[10]=1\n",
    "        if(split_data[i] == 'Fibrosis'):\n",
    "            target[11]=1\n",
    "        if(split_data[i] == 'No Finding'):\n",
    "            target[12]=1\n",
    "            \n",
    "    return target"
   ]
  },
  {
   "cell_type": "code",
   "execution_count": 7,
   "metadata": {
    "collapsed": true
   },
   "outputs": [],
   "source": [
    "def getDataTarget(data,start_val):\n",
    "    data_targets = np.zeros([data.shape[0],13])\n",
    "    for i in range(0,data.shape[0]):\n",
    "        data_targets[i,:] = getTarget(data[\"Finding Labels\"][i+start_val])\n",
    "    return data_targets"
   ]
  },
  {
   "cell_type": "code",
   "execution_count": 8,
   "metadata": {
    "collapsed": true
   },
   "outputs": [],
   "source": [
    "def load_data(data,start_val):\n",
    "    #print(data.shape[0])\n",
    "    data_files = [\"\" for x in range(data.shape[0])]\n",
    "    for i in range(0,data.shape[0]):\n",
    "        #print(data[\"Image Index\"][i+start_val])\n",
    "        data_files[i] = ('images/'+data[\"Image Index\"][i+start_val])\n",
    "    data_files = np.asarray(data_files)\n",
    "    #print(data_files)\n",
    "    data_targets = getDataTarget(data,start_val)\n",
    "    return data_files, data_targets"
   ]
  },
  {
   "cell_type": "code",
   "execution_count": 9,
   "metadata": {
    "collapsed": true
   },
   "outputs": [],
   "source": [
    "train_files, train_targets = load_data(train_data,0)\n",
    "valid_files, valid_targets = load_data(validation_data,5046)\n",
    "test_files, test_targets = load_data(test_data,2803)"
   ]
  },
  {
   "cell_type": "code",
   "execution_count": 10,
   "metadata": {},
   "outputs": [
    {
     "name": "stderr",
     "output_type": "stream",
     "text": [
      "Using TensorFlow backend.\n"
     ]
    }
   ],
   "source": [
    "from keras.applications.resnet50 import preprocess_input, decode_predictions\n",
    "\n",
    "def ResNet50_predict_labels(img_path):\n",
    "    # returns prediction vector for image located at img_path\n",
    "    img = preprocess_input(path_to_tensor(img_path))\n",
    "    return np.argmax(ResNet50_model.predict(img))"
   ]
  },
  {
   "cell_type": "code",
   "execution_count": 11,
   "metadata": {
    "collapsed": true
   },
   "outputs": [],
   "source": [
    "from keras.preprocessing import image                  \n",
    "from tqdm import tqdm\n",
    "\n",
    "def path_to_tensor(img_path):\n",
    "    # loads RGB image as PIL.Image.Image type\n",
    "    img = image.load_img(img_path, target_size=(224, 224))\n",
    "    # convert PIL.Image.Image type to 3D tensor with shape (224, 224, 3)\n",
    "    x = image.img_to_array(img)\n",
    "    # convert 3D tensor to 4D tensor with shape (1, 224, 224, 3) and return 4D tensor\n",
    "    return np.expand_dims(x, axis=0)\n",
    "\n",
    "def paths_to_tensor(img_paths):\n",
    "    list_of_tensors = [path_to_tensor(img_path) for img_path in tqdm(img_paths)]\n",
    "    return np.vstack(list_of_tensors)"
   ]
  },
  {
   "cell_type": "code",
   "execution_count": 12,
   "metadata": {},
   "outputs": [
    {
     "name": "stderr",
     "output_type": "stream",
     "text": [
      "100%|██████████| 2803/2803 [00:43<00:00, 67.07it/s]\n",
      "100%|██████████| 560/560 [00:07<00:00, 74.50it/s]\n",
      "100%|██████████| 2243/2243 [00:32<00:00, 69.78it/s]\n"
     ]
    }
   ],
   "source": [
    "from PIL import ImageFile                            \n",
    "ImageFile.LOAD_TRUNCATED_IMAGES = True                 \n",
    "\n",
    "# pre-process the data for Keras\n",
    "train_tensors = paths_to_tensor(train_files).astype('float32')/255\n",
    "valid_tensors = paths_to_tensor(valid_files).astype('float32')/255\n",
    "test_tensors = paths_to_tensor(test_files).astype('float32')/255"
   ]
  },
  {
   "cell_type": "code",
   "execution_count": 13,
   "metadata": {},
   "outputs": [
    {
     "data": {
      "text/plain": [
       "array([ 0.33333334,  0.33333334,  0.33333334], dtype=float32)"
      ]
     },
     "execution_count": 13,
     "metadata": {},
     "output_type": "execute_result"
    }
   ],
   "source": [
    "train_tensors[0][0][0]"
   ]
  },
  {
   "cell_type": "code",
   "execution_count": 14,
   "metadata": {},
   "outputs": [
    {
     "name": "stdout",
     "output_type": "stream",
     "text": [
      "_________________________________________________________________\n",
      "Layer (type)                 Output Shape              Param #   \n",
      "=================================================================\n",
      "convlayer1 (Conv2D)          (None, 112, 112, 16)      1216      \n",
      "_________________________________________________________________\n",
      "activation_1 (Activation)    (None, 112, 112, 16)      0         \n",
      "_________________________________________________________________\n",
      "maxpool1 (MaxPooling2D)      (None, 111, 111, 16)      0         \n",
      "_________________________________________________________________\n",
      "convlayer2 (Conv2D)          (None, 56, 56, 32)        12832     \n",
      "_________________________________________________________________\n",
      "activation_2 (Activation)    (None, 56, 56, 32)        0         \n",
      "_________________________________________________________________\n",
      "maxpool2 (MaxPooling2D)      (None, 28, 28, 32)        0         \n",
      "_________________________________________________________________\n",
      "convlayer3 (Conv2D)          (None, 28, 28, 64)        18496     \n",
      "_________________________________________________________________\n",
      "activation_3 (Activation)    (None, 28, 28, 64)        0         \n",
      "_________________________________________________________________\n",
      "maxpool3 (MaxPooling2D)      (None, 14, 14, 64)        0         \n",
      "_________________________________________________________________\n",
      "flatten_1 (Flatten)          (None, 12544)             0         \n",
      "_________________________________________________________________\n",
      "dropout_1 (Dropout)          (None, 12544)             0         \n",
      "_________________________________________________________________\n",
      "Dense1 (Dense)               (None, 64)                802880    \n",
      "_________________________________________________________________\n",
      "activation_4 (Activation)    (None, 64)                0         \n",
      "_________________________________________________________________\n",
      "dropout_2 (Dropout)          (None, 64)                0         \n",
      "_________________________________________________________________\n",
      "output (Dense)               (None, 13)                845       \n",
      "=================================================================\n",
      "Total params: 836,269.0\n",
      "Trainable params: 836,269.0\n",
      "Non-trainable params: 0.0\n",
      "_________________________________________________________________\n"
     ]
    },
    {
     "name": "stderr",
     "output_type": "stream",
     "text": [
      "/usr/local/lib/python3.5/dist-packages/ipykernel_launcher.py:11: UserWarning: Update your `Conv2D` call to the Keras 2 API: `Conv2D(16, (5, 5), name=\"convlayer1\", padding=\"same\", input_shape=(224, 224,..., strides=(2, 2))`\n",
      "  # This is added back by InteractiveShellApp.init_path()\n",
      "/usr/local/lib/python3.5/dist-packages/ipykernel_launcher.py:17: UserWarning: Update your `Conv2D` call to the Keras 2 API: `Conv2D(32, (5, 5), name=\"convlayer2\", padding=\"same\", strides=(2, 2))`\n",
      "/usr/local/lib/python3.5/dist-packages/ipykernel_launcher.py:23: UserWarning: Update your `Conv2D` call to the Keras 2 API: `Conv2D(64, (3, 3), name=\"convlayer3\", padding=\"same\")`\n"
     ]
    }
   ],
   "source": [
    "from keras.layers import Conv2D, MaxPooling2D, GlobalAveragePooling2D\n",
    "from keras.layers import Dropout, Flatten, Dense, Activation\n",
    "from keras.models import Sequential\n",
    "\n",
    "rowNum, colNum, ch = 224, 224, 3\n",
    "numOfClasses = 13\n",
    "\n",
    "model = Sequential()\n",
    "\n",
    "# First Convolution Layer\n",
    "model.add(Conv2D(16, 5,5 ,input_shape=(rowNum,colNum,ch), subsample=(2,2), border_mode='same', name='convlayer1'))\n",
    "model.add(Activation('relu'))\n",
    "# First Maxpool\n",
    "model.add(MaxPooling2D(pool_size=(2,2),strides=(1,1),name='maxpool1'))\n",
    "\n",
    "# Second Convolution Layer\n",
    "model.add(Conv2D(32, 5,5 , subsample=(2,2), border_mode='same', name='convlayer2'))\n",
    "model.add(Activation('relu'))\n",
    "# Second Maxpool\n",
    "model.add(MaxPooling2D(pool_size=(2,2),name='maxpool2'))\n",
    "\n",
    "# Third Convolution Layer\n",
    "model.add(Conv2D(64, 3,3 , border_mode='same', name='convlayer3'))\n",
    "model.add(Activation('relu'))\n",
    "# Third Maxpool\n",
    "model.add(MaxPooling2D(pool_size=(2,2),name='maxpool3'))\n",
    "\n",
    "model.add(Flatten())\n",
    "model.add(Dropout(0.5))\n",
    "\n",
    "#Dense layer with 64 neurons and relu activation\n",
    "model.add(Dense(64, name='Dense1'))\n",
    "model.add(Activation('relu'))\n",
    "model.add(Dropout(0.5))\n",
    "\n",
    "#Output layer with softmax function\n",
    "model.add(Dense(numOfClasses, activation='softmax', name='output'))\n",
    "model.summary()"
   ]
  },
  {
   "cell_type": "code",
   "execution_count": 15,
   "metadata": {
    "collapsed": true
   },
   "outputs": [],
   "source": [
    "model.compile(optimizer='rmsprop', loss='categorical_crossentropy', metrics=['accuracy'])"
   ]
  },
  {
   "cell_type": "code",
   "execution_count": 16,
   "metadata": {
    "collapsed": true
   },
   "outputs": [],
   "source": [
    "from keras.callbacks import ModelCheckpoint  \n",
    "epochs = 10\n",
    "checkpointer = ModelCheckpoint(filepath='saved_models/weights.best.from_scratch.hdf5', \n",
    "                               verbose=1, save_best_only=True)"
   ]
  },
  {
   "cell_type": "code",
   "execution_count": 17,
   "metadata": {},
   "outputs": [
    {
     "name": "stdout",
     "output_type": "stream",
     "text": [
      "Train on 2803 samples, validate on 560 samples\n",
      "Epoch 1/10\n",
      "2800/2803 [============================>.] - ETA: 0s - loss: 2.4966 - acc: 0.5443Epoch 00000: val_loss improved from inf to 2.63228, saving model to saved_models/weights.best.from_scratch.hdf5\n",
      "2803/2803 [==============================] - 7s - loss: 2.4959 - acc: 0.5444 - val_loss: 2.6323 - val_acc: 0.4946\n",
      "Epoch 2/10\n",
      "2780/2803 [============================>.] - ETA: 0s - loss: 2.4055 - acc: 0.5626Epoch 00001: val_loss did not improve\n",
      "2803/2803 [==============================] - 6s - loss: 2.4044 - acc: 0.5633 - val_loss: 2.6686 - val_acc: 0.4946\n",
      "Epoch 3/10\n",
      "2780/2803 [============================>.] - ETA: 0s - loss: 2.3768 - acc: 0.5629Epoch 00002: val_loss improved from 2.63228 to 2.61044, saving model to saved_models/weights.best.from_scratch.hdf5\n",
      "2803/2803 [==============================] - 6s - loss: 2.3719 - acc: 0.5633 - val_loss: 2.6104 - val_acc: 0.4946\n",
      "Epoch 4/10\n",
      "2780/2803 [============================>.] - ETA: 0s - loss: 2.3542 - acc: 0.5644Epoch 00003: val_loss improved from 2.61044 to 2.59521, saving model to saved_models/weights.best.from_scratch.hdf5\n",
      "2803/2803 [==============================] - 6s - loss: 2.3564 - acc: 0.5637 - val_loss: 2.5952 - val_acc: 0.4946\n",
      "Epoch 5/10\n",
      "2780/2803 [============================>.] - ETA: 0s - loss: 2.3233 - acc: 0.5633Epoch 00004: val_loss did not improve\n",
      "2803/2803 [==============================] - 6s - loss: 2.3218 - acc: 0.5637 - val_loss: 2.6351 - val_acc: 0.4946\n",
      "Epoch 6/10\n",
      "2780/2803 [============================>.] - ETA: 0s - loss: 2.2957 - acc: 0.5637Epoch 00005: val_loss did not improve\n",
      "2803/2803 [==============================] - 6s - loss: 2.2948 - acc: 0.5637 - val_loss: 2.6755 - val_acc: 0.4946\n",
      "Epoch 7/10\n",
      "2780/2803 [============================>.] - ETA: 0s - loss: 2.2902 - acc: 0.5637Epoch 00006: val_loss did not improve\n",
      "2803/2803 [==============================] - 5s - loss: 2.2881 - acc: 0.5637 - val_loss: 2.8293 - val_acc: 0.4946\n",
      "Epoch 8/10\n",
      "2780/2803 [============================>.] - ETA: 0s - loss: 2.3055 - acc: 0.5626Epoch 00007: val_loss did not improve\n",
      "2803/2803 [==============================] - 6s - loss: 2.3005 - acc: 0.5637 - val_loss: 2.6834 - val_acc: 0.4946\n",
      "Epoch 9/10\n",
      "2780/2803 [============================>.] - ETA: 0s - loss: 2.2483 - acc: 0.5637Epoch 00008: val_loss did not improve\n",
      "2803/2803 [==============================] - 6s - loss: 2.2473 - acc: 0.5637 - val_loss: 2.6820 - val_acc: 0.4946\n",
      "Epoch 10/10\n",
      "2780/2803 [============================>.] - ETA: 0s - loss: 2.2600 - acc: 0.5619Epoch 00009: val_loss did not improve\n",
      "2803/2803 [==============================] - 6s - loss: 2.2530 - acc: 0.5637 - val_loss: 2.8596 - val_acc: 0.4946\n"
     ]
    },
    {
     "data": {
      "text/plain": [
       "<keras.callbacks.History at 0x7fbc65d04f28>"
      ]
     },
     "execution_count": 17,
     "metadata": {},
     "output_type": "execute_result"
    }
   ],
   "source": [
    "model.fit(train_tensors, train_targets, \n",
    "          validation_data=(valid_tensors, valid_targets),\n",
    "          epochs=epochs, batch_size=20, callbacks=[checkpointer], verbose=1)"
   ]
  },
  {
   "cell_type": "code",
   "execution_count": 18,
   "metadata": {
    "collapsed": true
   },
   "outputs": [],
   "source": [
    "model.load_weights('saved_models/weights.best.from_scratch.hdf5')"
   ]
  },
  {
   "cell_type": "code",
   "execution_count": 19,
   "metadata": {},
   "outputs": [
    {
     "name": "stdout",
     "output_type": "stream",
     "text": [
      "Test accuracy: 52.9202%\n"
     ]
    }
   ],
   "source": [
    "# get index of predicted dog breed for each image in test set\n",
    "image_predictions = [np.argmax(model.predict(np.expand_dims(tensor, axis=0))) for tensor in test_tensors]\n",
    "\n",
    "# report test accuracy\n",
    "test_accuracy = 100*np.sum(np.array(image_predictions)==np.argmax(test_targets, axis=1))/len(image_predictions)\n",
    "print('Test accuracy: %.4f%%' % test_accuracy)"
   ]
  },
  {
   "cell_type": "code",
   "execution_count": null,
   "metadata": {
    "collapsed": true
   },
   "outputs": [],
   "source": []
  }
 ],
 "metadata": {
  "anaconda-cloud": {},
  "kernelspec": {
   "display_name": "Python 3",
   "language": "python",
   "name": "python3"
  },
  "language_info": {
   "codemirror_mode": {
    "name": "ipython",
    "version": 3
   },
   "file_extension": ".py",
   "mimetype": "text/x-python",
   "name": "python",
   "nbconvert_exporter": "python",
   "pygments_lexer": "ipython3",
   "version": "3.6.1"
  }
 },
 "nbformat": 4,
 "nbformat_minor": 1
}
